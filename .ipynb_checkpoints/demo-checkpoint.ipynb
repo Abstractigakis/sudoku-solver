{
 "cells": [
  {
   "cell_type": "markdown",
   "metadata": {},
   "source": [
    "# Naive Backtracking\n",
    "\n",
    "The Naive Backtracking algorithm is essentially DFS.  We take a puzzle, and keep trying all the possible valid numbers in each space\n",
    "\n",
    "To Demonstrate the efficay, we will show some metrics wit this notebook for differt problems.\n",
    "\n",
    "First, we will compare the number of attempts the backtracking algorithm to the number of squares that is already filled to the problem\n",
    "\n",
    "It would be usefullt o create a `SudokuGenerorator` function, but for now, we are going to use a folder we already have"
   ]
  },
  {
   "cell_type": "code",
   "execution_count": 2,
   "metadata": {},
   "outputs": [
    {
     "ename": "SyntaxError",
     "evalue": "invalid syntax (Temp/ipykernel_14404/2540744744.py, line 34)",
     "output_type": "error",
     "traceback": [
      "\u001b[1;36m  File \u001b[1;32m\"C:\\Users\\estra\\AppData\\Local\\Temp/ipykernel_14404/2540744744.py\"\u001b[1;36m, line \u001b[1;32m34\u001b[0m\n\u001b[1;33m    except PuzzleUnsolvable\u001b[0m\n\u001b[1;37m                           ^\u001b[0m\n\u001b[1;31mSyntaxError\u001b[0m\u001b[1;31m:\u001b[0m invalid syntax\n"
     ]
    }
   ],
   "source": [
    "from os import listdir\n",
    "from src.sudoku_solver import SudokuSolver\n",
    "from src.exceptions import MaxAtteptsReached, PuzzleUnsolvable\n",
    "\n",
    "import matplotlib.pyplot as plt\n",
    "\n",
    "INITAL_FOLDER = \"./sudoku_problems\"\n",
    "MAX_ATTEMPTS = 10000\n",
    "AVERAGE_NAIVE_ATTEMPTS_BY_PROBLEM_SIZE = [0] * 71\n",
    "for foler_name in listdir(INITAL_FOLDER):\n",
    "    problem_size = int(foler_name)\n",
    "    num_problems_of_size = 0\n",
    "    total_attempts = 0\n",
    "    for file_name in listdir(f\"{INITAL_FOLDER}/{foler_name}\"):\n",
    "        problem_path = f\"{INITAL_FOLDER}/{foler_name}/{file_name}\"\n",
    "        solver = SudokuSolver(problem_path)\n",
    "    \n",
    "        print(f'=============================================================')\n",
    "        print(f'Naive Backtracking {problem_path}\\n\\n')\n",
    "        print(f'Intial Problem:\\n{solver.intial_game_state}\\n\\n')\n",
    "\n",
    "        try:\n",
    "            solution, num_attempts = solver.naive_back_tracking(max_attempts=MAX_ATTEMPTS)\n",
    "            print(f\"Solution:\\n{solution}\\n\\nNumber of Attempts : {num_attempts}\\n\\n\")\n",
    "            total_attempts += num_attempts\n",
    "            num_problems_of_size += 1\n",
    "            AVERAGE_NAIVE_ATTEMPTS_BY_PROBLEM_SIZE[problem_size-1] = total_attempts/num_problems_of_size\n",
    "            print(f\"num_problems_of_size:{num_problems_of_size}\\n\\ntotal_attempts: {total_attempts}\\n\\n\")\n",
    "        except MaxAtteptsReached:\n",
    "            total_attempts += MAX_ATTEMPTS\n",
    "            num_problems_of_size += 1\n",
    "            AVERAGE_NAIVE_ATTEMPTS_BY_PROBLEM_SIZE[problem_size-1] = total_attempts/num_problems_of_size\n",
    "            print(f\"num_problems_of_size:{num_problems_of_size}\\n\\ntotal_attempts: {total_attempts}\\n\\n\")\n",
    "        except PuzzleUnsolvable:\n",
    "            pass\n",
    "\n",
    "\n",
    "plt.plot(AVERAGE_NAIVE_ATTEMPTS_BY_PROBLEM_SIZE)\n",
    "plt.ylabel(\"Average # of Variables Checked\")\n",
    "plt.xlabel(\"# of Squares Filled to start\")\n",
    "plt.title(\"Variables Checked Vs. # of Squared filled to start\")\n",
    "plt.show()"
   ]
  },
  {
   "cell_type": "markdown",
   "metadata": {},
   "source": [
    "# Explanination of the ablove graph\n",
    "\n",
    "When we have a blank board, then we fill the first row with $1,2,3,4,5,6,7,8,9$, i.e. we use 9 attempts.  on the second row, we will try $1,2,3$ and it fails in the fist square with $1,2,3$, then fails in the next square with $1,2,3,4$, then  $1,2,3,4,5$ etc.. it can easily be seen how we can very quickly use our $10,000$ attempts.  Similar arguments can be made for basically all the problem sizes.  We notice this rapidly drops off near the 25 numbers filled range, because there are less blank squares.\n",
    "\n",
    "Note, we did this with only a limeted amount of test samples, and some that have unsolvable problems.  We will build a problem generator soon, and redo this"
   ]
  },
  {
   "cell_type": "markdown",
   "metadata": {},
   "source": [
    "# Forward Checking\n",
    "\n",
    "We are going to implement an optimization to the backtracking algorithm know as `forward_checking`.  Essentailly, instead of trying every possible numberm we are going to compute the 'domains' of each tile at each step. the domain of a square is the set of all possible values a square can take with out breaking the rules of sudoku.  So instead of trying all the numbers in `range(1, 10)` try all the numbers in `domain`, and update the domains at each guess.  I.e. if we add the number 1 in a square, 1 can't go in other places, so when we are trying to insert in those places, "
   ]
  },
  {
   "cell_type": "code",
   "execution_count": null,
   "metadata": {},
   "outputs": [],
   "source": []
  }
 ],
 "metadata": {
  "interpreter": {
   "hash": "27ec45395746c9045282e19a2fd2ea34117710f69e6c28903966db91a50b9bf3"
  },
  "kernelspec": {
   "display_name": "Python 3 (ipykernel)",
   "language": "python",
   "name": "python3"
  },
  "language_info": {
   "codemirror_mode": {
    "name": "ipython",
    "version": 3
   },
   "file_extension": ".py",
   "mimetype": "text/x-python",
   "name": "python",
   "nbconvert_exporter": "python",
   "pygments_lexer": "ipython3",
   "version": "3.9.7"
  }
 },
 "nbformat": 4,
 "nbformat_minor": 4
}
